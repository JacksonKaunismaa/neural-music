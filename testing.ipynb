{
 "cells": [
  {
   "cell_type": "code",
   "execution_count": 1,
   "id": "3d948c3e",
   "metadata": {},
   "outputs": [],
   "source": [
    "import librosa\n",
    "import librosa.display\n",
    "import time\n",
    "import matplotlib.pyplot as plt\n",
    "import numpy as np\n",
    "import torch\n",
    "import pandas as pd\n",
    "from torch.utils.data import Dataset\n",
    "from torch.utils.data import DataLoader\n",
    "import glob\n",
    "import torchaudio"
   ]
  },
  {
   "cell_type": "code",
   "execution_count": 2,
   "id": "a5ef241d",
   "metadata": {},
   "outputs": [],
   "source": [
    "import generate_csv\n",
    "import data\n",
    "import train\n",
    "import model"
   ]
  },
  {
   "cell_type": "code",
   "execution_count": 3,
   "id": "6b35cf2b",
   "metadata": {},
   "outputs": [],
   "source": [
    "data_config = data.DatasetConfig()\n",
    "#generate_csv.gen_csv([\"lofi\", \"classical\"], data_config)"
   ]
  },
  {
   "cell_type": "code",
   "execution_count": 7,
   "id": "6802e6de",
   "metadata": {},
   "outputs": [
    {
     "name": "stdout",
     "output_type": "stream",
     "text": [
      "Trainable Parameters: 1.192M\n"
     ]
    }
   ],
   "source": [
    "df = pd.read_csv(\"out.csv\")\n",
    "df[\"class\"] = data.encode_classes(df[\"class\"])\n",
    "size = len(df)\n",
    "all_indices = np.arange(size)\n",
    "np.random.shuffle(all_indices)\n",
    "df = np.array(df)\n",
    "\n",
    "# Model hyperparameters\n",
    "EPOCHS = 30\n",
    "DIMS = 64\n",
    "N_LAYERS = [4,2,2]\n",
    "DIRECTIONS = [2]\n",
    "LEARN_RATE = 1e-5\n",
    "TRAIN_SIZE = 0.8\n",
    "VALID_SIZE = 0.1\n",
    "\n",
    "tr_dataset = data.MusicDataset(df[all_indices][:int(size*TRAIN_SIZE)], data_config)\n",
    "va_dataset = data.MusicDataset(df[all_indices][int(size*TRAIN_SIZE):int(size*(TRAIN_SIZE+VALID_SIZE))], data_config)\n",
    "te_dataset = data.MusicDataset(df[all_indices][int(size*TRAIN_SIZE+VALID_SIZE):], data_config)\n",
    "#elem = tr_dataset[1]\n",
    "#print([e.shape for e in elem[:-1]], elem[-1])\n",
    "#print(\"calculated size\", tr_dataset.num_mels, tr_dataset.time_steps)\n",
    "#quit()\n",
    "tr_load = DataLoader(tr_dataset, batch_size=None, batch_sampler=None, shuffle=False, num_workers=0)\n",
    "va_load = DataLoader(va_dataset, batch_size=None, batch_sampler=None, shuffle=False, num_workers=0)\n",
    "te_load = DataLoader(te_dataset, batch_size=None, batch_sampler=None, shuffle=False, num_workers=0)\n",
    "\n",
    "network = model.MelNet(DIMS, N_LAYERS, 2, DIRECTIONS, data_config)\n",
    "try:\n",
    "    network.load(glob.glob(\"model_checkpoints/*.model\")[-1])\n",
    "except IndexError:\n",
    "    pass"
   ]
  }
 ],
 "metadata": {
  "kernelspec": {
   "display_name": "Python 3 (ipykernel)",
   "language": "python",
   "name": "python3"
  },
  "language_info": {
   "codemirror_mode": {
    "name": "ipython",
    "version": 3
   },
   "file_extension": ".py",
   "mimetype": "text/x-python",
   "name": "python",
   "nbconvert_exporter": "python",
   "pygments_lexer": "ipython3",
   "version": "3.7.11"
  }
 },
 "nbformat": 4,
 "nbformat_minor": 5
}
